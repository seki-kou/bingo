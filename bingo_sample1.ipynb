{
  "nbformat": 4,
  "nbformat_minor": 0,
  "metadata": {
    "colab": {
      "provenance": []
    },
    "kernelspec": {
      "name": "python3",
      "display_name": "Python 3"
    },
    "language_info": {
      "name": "python"
    }
  },
  "cells": [
    {
      "cell_type": "code",
      "execution_count": 1,
      "metadata": {
        "id": "lKjZihZ8XIZf"
      },
      "outputs": [],
      "source": [
        "import random\n",
        "from random import sample"
      ]
    },
    {
      "cell_type": "code",
      "source": [
        "k=sample(range(1,76),75)\n",
        "n=[]\n",
        "for i in range(75):\n",
        "   x=input(\"next number(Enterキー)\")\n",
        "   n.append(k[i])\n",
        "   x=n[i]\n",
        "   print(i+1,\"回目:\",\"\\033[1m{}\\033\".format(x))\n",
        "   print(\"記録：\",n)"
      ],
      "metadata": {
        "colab": {
          "base_uri": "https://localhost:8080/"
        },
        "id": "aIIhl82gmRmR",
        "outputId": "181750c3-4e12-4c43-e651-f76ae0e9abaf"
      },
      "execution_count": null,
      "outputs": [
        {
          "output_type": "stream",
          "name": "stdout",
          "text": [
            "next number(Enterキー)\n",
            "1 回目: \u001b[1m9\u001b\n",
            "記録： [9]\n",
            "next number(Enterキー)\n",
            "2 回目: \u001b[1m46\u001b\n",
            "記録： [9, 46]\n",
            "next number(Enterキー)\n",
            "3 回目: \u001b[1m49\u001b\n",
            "記録： [9, 46, 49]\n",
            "next number(Enterキー)\n",
            "4 回目: \u001b[1m72\u001b\n",
            "記録： [9, 46, 49, 72]\n",
            "next number(Enterキー)\n",
            "5 回目: \u001b[1m24\u001b\n",
            "記録： [9, 46, 49, 72, 24]\n"
          ]
        }
      ]
    },
    {
      "cell_type": "code",
      "source": [
        "\n",
        "\n",
        "\n",
        "\n",
        "\n"
      ],
      "metadata": {
        "id": "GcA7WIc8jzbw"
      },
      "execution_count": null,
      "outputs": []
    }
  ]
}