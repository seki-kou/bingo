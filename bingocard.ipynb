{
  "nbformat": 4,
  "nbformat_minor": 0,
  "metadata": {
    "colab": {
      "provenance": [],
      "authorship_tag": "ABX9TyNyzUUVrNt2p7hFJXhVHoi2",
      "include_colab_link": true
    },
    "kernelspec": {
      "name": "python3",
      "display_name": "Python 3"
    },
    "language_info": {
      "name": "python"
    }
  },
  "cells": [
    {
      "cell_type": "markdown",
      "metadata": {
        "id": "view-in-github",
        "colab_type": "text"
      },
      "source": [
        "<a href=\"https://colab.research.google.com/github/seki-kou/bingo/blob/main/bingocard.ipynb\" target=\"_parent\"><img src=\"https://colab.research.google.com/assets/colab-badge.svg\" alt=\"Open In Colab\"/></a>"
      ]
    },
    {
      "cell_type": "code",
      "execution_count": 54,
      "metadata": {
        "id": "CJy7pSkjp56o"
      },
      "outputs": [],
      "source": [
        "import random\n",
        "from random import sample"
      ]
    },
    {
      "cell_type": "code",
      "source": [
        "k=sample(range(1,75),25)\n",
        "k[12]=0\n",
        "m=\"\\n\".join([str(k[i:i+5])for i in range(0,len(k),5)])\n",
        "print(m)"
      ],
      "metadata": {
        "colab": {
          "base_uri": "https://localhost:8080/"
        },
        "id": "iIkrBvMJqGsi",
        "outputId": "7831065a-b0ef-40ca-89a4-7dd7c77ec54f"
      },
      "execution_count": 61,
      "outputs": [
        {
          "output_type": "stream",
          "name": "stdout",
          "text": [
            "[11, 14, 44, 10, 62]\n",
            "[26, 34, 69, 46, 72]\n",
            "[15, 51, 0, 4, 13]\n",
            "[21, 23, 49, 58, 8]\n",
            "[20, 16, 19, 37, 22]\n"
          ]
        }
      ]
    },
    {
      "cell_type": "code",
      "source": [],
      "metadata": {
        "id": "4cOuSTi2Fx59"
      },
      "execution_count": null,
      "outputs": []
    }
  ]
}