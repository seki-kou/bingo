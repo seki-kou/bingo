import random
import numpy as np

bingo_list=random.sample(range(1,75),25)
bingo_list[12]=0
bingo_array=np.array(bingo_list)
bingo_card=bingo_array.reshape(5,5)

print(bingo_card)
