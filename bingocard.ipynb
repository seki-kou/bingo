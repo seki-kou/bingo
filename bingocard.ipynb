{
  "nbformat": 4,
  "nbformat_minor": 0,
  "metadata": {
    "colab": {
      "provenance": [],
      "include_colab_link": true
    },
    "kernelspec": {
      "name": "python3",
      "display_name": "Python 3"
    },
    "language_info": {
      "name": "python"
    }
  },
  "cells": [
    {
      "cell_type": "markdown",
      "metadata": {
        "id": "view-in-github",
        "colab_type": "text"
      },
      "source": [
        "<a href=\"https://colab.research.google.com/github/seki-kou/bingo/blob/main/bingocard.ipynb\" target=\"_parent\"><img src=\"https://colab.research.google.com/assets/colab-badge.svg\" alt=\"Open In Colab\"/></a>"
      ]
    },
    {
      "cell_type": "code",
      "execution_count": 2,
      "metadata": {
        "id": "CJy7pSkjp56o"
      },
      "outputs": [],
      "source": [
        "import random\n",
        "import numpy as np"
      ]
    },
    {
      "cell_type": "code",
      "source": [
        "bingo_list=random.sample(range(1,75),25)\n",
        "bingo_list[12]=0\n",
        "bingo_array=np.array(bingo_list)\n",
        "bingo_card=bingo_array.reshape(5,5)\n",
        "\n",
        "print(bingo_card)"
      ],
      "metadata": {
        "colab": {
          "base_uri": "https://localhost:8080/"
        },
        "id": "iIkrBvMJqGsi",
        "outputId": "67900efd-bfb0-4a6b-e697-9610a6304a57"
      },
      "execution_count": 7,
      "outputs": [
        {
          "output_type": "stream",
          "name": "stdout",
          "text": [
            "[[37 11 36 60 52]\n",
            " [54 61 42 23 17]\n",
            " [29 51  0 40 45]\n",
            " [67 18 31 27 47]\n",
            " [56 68 58 19 43]]\n"
          ]
        }
      ]
    }
  ]
}